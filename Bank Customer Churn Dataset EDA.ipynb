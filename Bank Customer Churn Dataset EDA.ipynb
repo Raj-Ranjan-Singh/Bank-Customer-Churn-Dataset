{
 "cells": [
  {
   "cell_type": "code",
   "execution_count": 1,
   "id": "9595213f",
   "metadata": {},
   "outputs": [],
   "source": [
    "'''so the aim is to first analyse which type of customers are churning out of the bank, i.e the possible reasons for churning \n",
    "and all and at the end come up with a conclusion that if a new entry is made in the dataset what is the likelihood(approximate) of them \n",
    "churning out of the bank\n",
    "'''\n",
    "\n"
   ]
  },
  {
   "cell_type": "markdown",
   "id": "8628f591",
   "metadata": {},
   "source": [
    "<h5>importing the important libraries</h5>"
   ]
  },
  {
   "cell_type": "code",
   "execution_count": 3,
   "id": "bae78070",
   "metadata": {},
   "outputs": [],
   "source": [
    "import pandas as pd\n",
    "import numpy as np\n",
    "import seaborn as sns\n",
    "import matplotlib.pyplot as plt"
   ]
  },
  {
   "cell_type": "markdown",
   "id": "6506cb4d",
   "metadata": {},
   "source": [
    "<h3>Data Sourcing</h3>"
   ]
  },
  {
   "cell_type": "code",
   "execution_count": 4,
   "id": "370a9985",
   "metadata": {},
   "outputs": [],
   "source": [
    "df=pd.read_csv(\"Bank Customer Churn Prediction.csv\")\n"
   ]
  },
  {
   "cell_type": "markdown",
   "id": "3c5edd00",
   "metadata": {},
   "source": [
    "<h5>displaying the first 5 rows of the dataset</h5>"
   ]
  },
  {
   "cell_type": "code",
   "execution_count": 5,
   "id": "dcd93558",
   "metadata": {},
   "outputs": [
    {
     "data": {
      "text/html": [
       "<div>\n",
       "<style scoped>\n",
       "    .dataframe tbody tr th:only-of-type {\n",
       "        vertical-align: middle;\n",
       "    }\n",
       "\n",
       "    .dataframe tbody tr th {\n",
       "        vertical-align: top;\n",
       "    }\n",
       "\n",
       "    .dataframe thead th {\n",
       "        text-align: right;\n",
       "    }\n",
       "</style>\n",
       "<table border=\"1\" class=\"dataframe\">\n",
       "  <thead>\n",
       "    <tr style=\"text-align: right;\">\n",
       "      <th></th>\n",
       "      <th>customer_id</th>\n",
       "      <th>credit_score</th>\n",
       "      <th>country</th>\n",
       "      <th>gender</th>\n",
       "      <th>age</th>\n",
       "      <th>tenure</th>\n",
       "      <th>balance</th>\n",
       "      <th>products_number</th>\n",
       "      <th>credit_card</th>\n",
       "      <th>active_member</th>\n",
       "      <th>estimated_salary</th>\n",
       "      <th>churn</th>\n",
       "    </tr>\n",
       "  </thead>\n",
       "  <tbody>\n",
       "    <tr>\n",
       "      <th>0</th>\n",
       "      <td>15634602</td>\n",
       "      <td>619</td>\n",
       "      <td>France</td>\n",
       "      <td>Female</td>\n",
       "      <td>42</td>\n",
       "      <td>2</td>\n",
       "      <td>0.00</td>\n",
       "      <td>1</td>\n",
       "      <td>1</td>\n",
       "      <td>1</td>\n",
       "      <td>101348.88</td>\n",
       "      <td>1</td>\n",
       "    </tr>\n",
       "    <tr>\n",
       "      <th>1</th>\n",
       "      <td>15647311</td>\n",
       "      <td>608</td>\n",
       "      <td>Spain</td>\n",
       "      <td>Female</td>\n",
       "      <td>41</td>\n",
       "      <td>1</td>\n",
       "      <td>83807.86</td>\n",
       "      <td>1</td>\n",
       "      <td>0</td>\n",
       "      <td>1</td>\n",
       "      <td>112542.58</td>\n",
       "      <td>0</td>\n",
       "    </tr>\n",
       "    <tr>\n",
       "      <th>2</th>\n",
       "      <td>15619304</td>\n",
       "      <td>502</td>\n",
       "      <td>France</td>\n",
       "      <td>Female</td>\n",
       "      <td>42</td>\n",
       "      <td>8</td>\n",
       "      <td>159660.80</td>\n",
       "      <td>3</td>\n",
       "      <td>1</td>\n",
       "      <td>0</td>\n",
       "      <td>113931.57</td>\n",
       "      <td>1</td>\n",
       "    </tr>\n",
       "    <tr>\n",
       "      <th>3</th>\n",
       "      <td>15701354</td>\n",
       "      <td>699</td>\n",
       "      <td>France</td>\n",
       "      <td>Female</td>\n",
       "      <td>39</td>\n",
       "      <td>1</td>\n",
       "      <td>0.00</td>\n",
       "      <td>2</td>\n",
       "      <td>0</td>\n",
       "      <td>0</td>\n",
       "      <td>93826.63</td>\n",
       "      <td>0</td>\n",
       "    </tr>\n",
       "    <tr>\n",
       "      <th>4</th>\n",
       "      <td>15737888</td>\n",
       "      <td>850</td>\n",
       "      <td>Spain</td>\n",
       "      <td>Female</td>\n",
       "      <td>43</td>\n",
       "      <td>2</td>\n",
       "      <td>125510.82</td>\n",
       "      <td>1</td>\n",
       "      <td>1</td>\n",
       "      <td>1</td>\n",
       "      <td>79084.10</td>\n",
       "      <td>0</td>\n",
       "    </tr>\n",
       "  </tbody>\n",
       "</table>\n",
       "</div>"
      ],
      "text/plain": [
       "   customer_id  credit_score country  gender  age  tenure    balance  \\\n",
       "0     15634602           619  France  Female   42       2       0.00   \n",
       "1     15647311           608   Spain  Female   41       1   83807.86   \n",
       "2     15619304           502  France  Female   42       8  159660.80   \n",
       "3     15701354           699  France  Female   39       1       0.00   \n",
       "4     15737888           850   Spain  Female   43       2  125510.82   \n",
       "\n",
       "   products_number  credit_card  active_member  estimated_salary  churn  \n",
       "0                1            1              1         101348.88      1  \n",
       "1                1            0              1         112542.58      0  \n",
       "2                3            1              0         113931.57      1  \n",
       "3                2            0              0          93826.63      0  \n",
       "4                1            1              1          79084.10      0  "
      ]
     },
     "execution_count": 5,
     "metadata": {},
     "output_type": "execute_result"
    }
   ],
   "source": [
    "df.head()"
   ]
  },
  {
   "cell_type": "markdown",
   "id": "cb777497",
   "metadata": {},
   "source": [
    "<h3>Data Cleaning</h3>\n"
   ]
  },
  {
   "cell_type": "markdown",
   "id": "9c44a744",
   "metadata": {},
   "source": [
    "<h5>Deleting the 'customer_id' column as it is of no use since indexing is already done in the dataframe</h5>\n"
   ]
  },
  {
   "cell_type": "code",
   "execution_count": 6,
   "id": "625aa314",
   "metadata": {},
   "outputs": [
    {
     "data": {
      "text/html": [
       "<div>\n",
       "<style scoped>\n",
       "    .dataframe tbody tr th:only-of-type {\n",
       "        vertical-align: middle;\n",
       "    }\n",
       "\n",
       "    .dataframe tbody tr th {\n",
       "        vertical-align: top;\n",
       "    }\n",
       "\n",
       "    .dataframe thead th {\n",
       "        text-align: right;\n",
       "    }\n",
       "</style>\n",
       "<table border=\"1\" class=\"dataframe\">\n",
       "  <thead>\n",
       "    <tr style=\"text-align: right;\">\n",
       "      <th></th>\n",
       "      <th>credit_score</th>\n",
       "      <th>country</th>\n",
       "      <th>gender</th>\n",
       "      <th>age</th>\n",
       "      <th>tenure</th>\n",
       "      <th>balance</th>\n",
       "      <th>products_number</th>\n",
       "      <th>credit_card</th>\n",
       "      <th>active_member</th>\n",
       "      <th>estimated_salary</th>\n",
       "      <th>churn</th>\n",
       "    </tr>\n",
       "  </thead>\n",
       "  <tbody>\n",
       "    <tr>\n",
       "      <th>0</th>\n",
       "      <td>619</td>\n",
       "      <td>France</td>\n",
       "      <td>Female</td>\n",
       "      <td>42</td>\n",
       "      <td>2</td>\n",
       "      <td>0.00</td>\n",
       "      <td>1</td>\n",
       "      <td>1</td>\n",
       "      <td>1</td>\n",
       "      <td>101348.88</td>\n",
       "      <td>1</td>\n",
       "    </tr>\n",
       "    <tr>\n",
       "      <th>1</th>\n",
       "      <td>608</td>\n",
       "      <td>Spain</td>\n",
       "      <td>Female</td>\n",
       "      <td>41</td>\n",
       "      <td>1</td>\n",
       "      <td>83807.86</td>\n",
       "      <td>1</td>\n",
       "      <td>0</td>\n",
       "      <td>1</td>\n",
       "      <td>112542.58</td>\n",
       "      <td>0</td>\n",
       "    </tr>\n",
       "    <tr>\n",
       "      <th>2</th>\n",
       "      <td>502</td>\n",
       "      <td>France</td>\n",
       "      <td>Female</td>\n",
       "      <td>42</td>\n",
       "      <td>8</td>\n",
       "      <td>159660.80</td>\n",
       "      <td>3</td>\n",
       "      <td>1</td>\n",
       "      <td>0</td>\n",
       "      <td>113931.57</td>\n",
       "      <td>1</td>\n",
       "    </tr>\n",
       "    <tr>\n",
       "      <th>3</th>\n",
       "      <td>699</td>\n",
       "      <td>France</td>\n",
       "      <td>Female</td>\n",
       "      <td>39</td>\n",
       "      <td>1</td>\n",
       "      <td>0.00</td>\n",
       "      <td>2</td>\n",
       "      <td>0</td>\n",
       "      <td>0</td>\n",
       "      <td>93826.63</td>\n",
       "      <td>0</td>\n",
       "    </tr>\n",
       "    <tr>\n",
       "      <th>4</th>\n",
       "      <td>850</td>\n",
       "      <td>Spain</td>\n",
       "      <td>Female</td>\n",
       "      <td>43</td>\n",
       "      <td>2</td>\n",
       "      <td>125510.82</td>\n",
       "      <td>1</td>\n",
       "      <td>1</td>\n",
       "      <td>1</td>\n",
       "      <td>79084.10</td>\n",
       "      <td>0</td>\n",
       "    </tr>\n",
       "  </tbody>\n",
       "</table>\n",
       "</div>"
      ],
      "text/plain": [
       "   credit_score country  gender  age  tenure    balance  products_number  \\\n",
       "0           619  France  Female   42       2       0.00                1   \n",
       "1           608   Spain  Female   41       1   83807.86                1   \n",
       "2           502  France  Female   42       8  159660.80                3   \n",
       "3           699  France  Female   39       1       0.00                2   \n",
       "4           850   Spain  Female   43       2  125510.82                1   \n",
       "\n",
       "   credit_card  active_member  estimated_salary  churn  \n",
       "0            1              1         101348.88      1  \n",
       "1            0              1         112542.58      0  \n",
       "2            1              0         113931.57      1  \n",
       "3            0              0          93826.63      0  \n",
       "4            1              1          79084.10      0  "
      ]
     },
     "execution_count": 6,
     "metadata": {},
     "output_type": "execute_result"
    }
   ],
   "source": [
    "df.drop(\"customer_id\", axis=1, inplace=True)\n",
    "df.head()"
   ]
  },
  {
   "cell_type": "markdown",
   "id": "4a651cf1",
   "metadata": {},
   "source": [
    "<h5>number of rows and columns in this dataset.</h5>"
   ]
  },
  {
   "cell_type": "code",
   "execution_count": 7,
   "id": "6e738d3d",
   "metadata": {},
   "outputs": [
    {
     "name": "stdout",
     "output_type": "stream",
     "text": [
      "rows,columns :  (10000, 11)\n"
     ]
    }
   ],
   "source": [
    "print(\"rows,columns : \",df.shape)"
   ]
  },
  {
   "cell_type": "markdown",
   "id": "2c2e2ca5",
   "metadata": {},
   "source": [
    "<h5>There are 10000 rows and 11 columns</h5>"
   ]
  },
  {
   "cell_type": "markdown",
   "id": "86431936",
   "metadata": {},
   "source": [
    "<h5>getting the count of non null values in each column and their datatype.</h5>"
   ]
  },
  {
   "cell_type": "code",
   "execution_count": 5,
   "id": "595e050e",
   "metadata": {},
   "outputs": [
    {
     "name": "stdout",
     "output_type": "stream",
     "text": [
      "<class 'pandas.core.frame.DataFrame'>\n",
      "RangeIndex: 10000 entries, 0 to 9999\n",
      "Data columns (total 12 columns):\n",
      " #   Column            Non-Null Count  Dtype  \n",
      "---  ------            --------------  -----  \n",
      " 0   customer_id       10000 non-null  int64  \n",
      " 1   credit_score      10000 non-null  int64  \n",
      " 2   country           10000 non-null  object \n",
      " 3   gender            10000 non-null  object \n",
      " 4   age               10000 non-null  int64  \n",
      " 5   tenure            10000 non-null  int64  \n",
      " 6   balance           10000 non-null  float64\n",
      " 7   products_number   10000 non-null  int64  \n",
      " 8   credit_card       10000 non-null  int64  \n",
      " 9   active_member     10000 non-null  int64  \n",
      " 10  estimated_salary  10000 non-null  float64\n",
      " 11  churn             10000 non-null  int64  \n",
      "dtypes: float64(2), int64(8), object(2)\n",
      "memory usage: 937.6+ KB\n"
     ]
    }
   ],
   "source": [
    "df.info()"
   ]
  },
  {
   "cell_type": "markdown",
   "id": "f80236ed",
   "metadata": {},
   "source": [
    "<h5>There are 8 integer type columns, 2 columns of String type, and 2 columns of float type</h5>"
   ]
  },
  {
   "cell_type": "markdown",
   "id": "91f22407",
   "metadata": {},
   "source": [
    "<h5>displaying the number of null values in each column</h5>"
   ]
  },
  {
   "cell_type": "code",
   "execution_count": 6,
   "id": "0b7f1a6d",
   "metadata": {},
   "outputs": [
    {
     "data": {
      "text/plain": [
       "customer_id         0\n",
       "credit_score        0\n",
       "country             0\n",
       "gender              0\n",
       "age                 0\n",
       "tenure              0\n",
       "balance             0\n",
       "products_number     0\n",
       "credit_card         0\n",
       "active_member       0\n",
       "estimated_salary    0\n",
       "churn               0\n",
       "dtype: int64"
      ]
     },
     "execution_count": 6,
     "metadata": {},
     "output_type": "execute_result"
    }
   ],
   "source": [
    " \n",
    "df.isnull().sum()"
   ]
  },
  {
   "cell_type": "markdown",
   "id": "64f56b3e",
   "metadata": {},
   "source": [
    "<h4>there are no null values in the dataset</h4>"
   ]
  },
  {
   "cell_type": "markdown",
   "id": "71c0b941",
   "metadata": {},
   "source": [
    "<h4>statistical info about the dataset :</h4>"
   ]
  },
  {
   "cell_type": "code",
   "execution_count": 7,
   "id": "40af287e",
   "metadata": {},
   "outputs": [
    {
     "data": {
      "text/html": [
       "<div>\n",
       "<style scoped>\n",
       "    .dataframe tbody tr th:only-of-type {\n",
       "        vertical-align: middle;\n",
       "    }\n",
       "\n",
       "    .dataframe tbody tr th {\n",
       "        vertical-align: top;\n",
       "    }\n",
       "\n",
       "    .dataframe thead th {\n",
       "        text-align: right;\n",
       "    }\n",
       "</style>\n",
       "<table border=\"1\" class=\"dataframe\">\n",
       "  <thead>\n",
       "    <tr style=\"text-align: right;\">\n",
       "      <th></th>\n",
       "      <th>customer_id</th>\n",
       "      <th>credit_score</th>\n",
       "      <th>age</th>\n",
       "      <th>tenure</th>\n",
       "      <th>balance</th>\n",
       "      <th>products_number</th>\n",
       "      <th>credit_card</th>\n",
       "      <th>active_member</th>\n",
       "      <th>estimated_salary</th>\n",
       "      <th>churn</th>\n",
       "    </tr>\n",
       "  </thead>\n",
       "  <tbody>\n",
       "    <tr>\n",
       "      <th>count</th>\n",
       "      <td>1.000000e+04</td>\n",
       "      <td>10000.000000</td>\n",
       "      <td>10000.000000</td>\n",
       "      <td>10000.000000</td>\n",
       "      <td>10000.000000</td>\n",
       "      <td>10000.000000</td>\n",
       "      <td>10000.00000</td>\n",
       "      <td>10000.000000</td>\n",
       "      <td>10000.000000</td>\n",
       "      <td>10000.000000</td>\n",
       "    </tr>\n",
       "    <tr>\n",
       "      <th>mean</th>\n",
       "      <td>1.569094e+07</td>\n",
       "      <td>650.528800</td>\n",
       "      <td>38.921800</td>\n",
       "      <td>5.012800</td>\n",
       "      <td>76485.889288</td>\n",
       "      <td>1.530200</td>\n",
       "      <td>0.70550</td>\n",
       "      <td>0.515100</td>\n",
       "      <td>100090.239881</td>\n",
       "      <td>0.203700</td>\n",
       "    </tr>\n",
       "    <tr>\n",
       "      <th>std</th>\n",
       "      <td>7.193619e+04</td>\n",
       "      <td>96.653299</td>\n",
       "      <td>10.487806</td>\n",
       "      <td>2.892174</td>\n",
       "      <td>62397.405202</td>\n",
       "      <td>0.581654</td>\n",
       "      <td>0.45584</td>\n",
       "      <td>0.499797</td>\n",
       "      <td>57510.492818</td>\n",
       "      <td>0.402769</td>\n",
       "    </tr>\n",
       "    <tr>\n",
       "      <th>min</th>\n",
       "      <td>1.556570e+07</td>\n",
       "      <td>350.000000</td>\n",
       "      <td>18.000000</td>\n",
       "      <td>0.000000</td>\n",
       "      <td>0.000000</td>\n",
       "      <td>1.000000</td>\n",
       "      <td>0.00000</td>\n",
       "      <td>0.000000</td>\n",
       "      <td>11.580000</td>\n",
       "      <td>0.000000</td>\n",
       "    </tr>\n",
       "    <tr>\n",
       "      <th>25%</th>\n",
       "      <td>1.562853e+07</td>\n",
       "      <td>584.000000</td>\n",
       "      <td>32.000000</td>\n",
       "      <td>3.000000</td>\n",
       "      <td>0.000000</td>\n",
       "      <td>1.000000</td>\n",
       "      <td>0.00000</td>\n",
       "      <td>0.000000</td>\n",
       "      <td>51002.110000</td>\n",
       "      <td>0.000000</td>\n",
       "    </tr>\n",
       "    <tr>\n",
       "      <th>50%</th>\n",
       "      <td>1.569074e+07</td>\n",
       "      <td>652.000000</td>\n",
       "      <td>37.000000</td>\n",
       "      <td>5.000000</td>\n",
       "      <td>97198.540000</td>\n",
       "      <td>1.000000</td>\n",
       "      <td>1.00000</td>\n",
       "      <td>1.000000</td>\n",
       "      <td>100193.915000</td>\n",
       "      <td>0.000000</td>\n",
       "    </tr>\n",
       "    <tr>\n",
       "      <th>75%</th>\n",
       "      <td>1.575323e+07</td>\n",
       "      <td>718.000000</td>\n",
       "      <td>44.000000</td>\n",
       "      <td>7.000000</td>\n",
       "      <td>127644.240000</td>\n",
       "      <td>2.000000</td>\n",
       "      <td>1.00000</td>\n",
       "      <td>1.000000</td>\n",
       "      <td>149388.247500</td>\n",
       "      <td>0.000000</td>\n",
       "    </tr>\n",
       "    <tr>\n",
       "      <th>max</th>\n",
       "      <td>1.581569e+07</td>\n",
       "      <td>850.000000</td>\n",
       "      <td>92.000000</td>\n",
       "      <td>10.000000</td>\n",
       "      <td>250898.090000</td>\n",
       "      <td>4.000000</td>\n",
       "      <td>1.00000</td>\n",
       "      <td>1.000000</td>\n",
       "      <td>199992.480000</td>\n",
       "      <td>1.000000</td>\n",
       "    </tr>\n",
       "  </tbody>\n",
       "</table>\n",
       "</div>"
      ],
      "text/plain": [
       "        customer_id  credit_score           age        tenure        balance  \\\n",
       "count  1.000000e+04  10000.000000  10000.000000  10000.000000   10000.000000   \n",
       "mean   1.569094e+07    650.528800     38.921800      5.012800   76485.889288   \n",
       "std    7.193619e+04     96.653299     10.487806      2.892174   62397.405202   \n",
       "min    1.556570e+07    350.000000     18.000000      0.000000       0.000000   \n",
       "25%    1.562853e+07    584.000000     32.000000      3.000000       0.000000   \n",
       "50%    1.569074e+07    652.000000     37.000000      5.000000   97198.540000   \n",
       "75%    1.575323e+07    718.000000     44.000000      7.000000  127644.240000   \n",
       "max    1.581569e+07    850.000000     92.000000     10.000000  250898.090000   \n",
       "\n",
       "       products_number  credit_card  active_member  estimated_salary  \\\n",
       "count     10000.000000  10000.00000   10000.000000      10000.000000   \n",
       "mean          1.530200      0.70550       0.515100     100090.239881   \n",
       "std           0.581654      0.45584       0.499797      57510.492818   \n",
       "min           1.000000      0.00000       0.000000         11.580000   \n",
       "25%           1.000000      0.00000       0.000000      51002.110000   \n",
       "50%           1.000000      1.00000       1.000000     100193.915000   \n",
       "75%           2.000000      1.00000       1.000000     149388.247500   \n",
       "max           4.000000      1.00000       1.000000     199992.480000   \n",
       "\n",
       "              churn  \n",
       "count  10000.000000  \n",
       "mean       0.203700  \n",
       "std        0.402769  \n",
       "min        0.000000  \n",
       "25%        0.000000  \n",
       "50%        0.000000  \n",
       "75%        0.000000  \n",
       "max        1.000000  "
      ]
     },
     "execution_count": 7,
     "metadata": {},
     "output_type": "execute_result"
    }
   ],
   "source": [
    "df.describe()"
   ]
  },
  {
   "cell_type": "markdown",
   "id": "a16b3c08",
   "metadata": {},
   "source": [
    "<h5>Getting the info about the column \"credit_score\"(the data it contains)</h5>"
   ]
  },
  {
   "cell_type": "code",
   "execution_count": 10,
   "id": "ec3e4820",
   "metadata": {},
   "outputs": [
    {
     "data": {
      "text/plain": [
       "0       619\n",
       "1       608\n",
       "2       502\n",
       "3       699\n",
       "4       850\n",
       "       ... \n",
       "9995    771\n",
       "9996    516\n",
       "9997    709\n",
       "9998    772\n",
       "9999    792\n",
       "Name: credit_score, Length: 10000, dtype: int64"
      ]
     },
     "execution_count": 10,
     "metadata": {},
     "output_type": "execute_result"
    }
   ],
   "source": [
    "df['credit_score']"
   ]
  },
  {
   "cell_type": "code",
   "execution_count": 11,
   "id": "deee4560",
   "metadata": {},
   "outputs": [
    {
     "name": "stderr",
     "output_type": "stream",
     "text": [
      "C:\\Users\\RAJ RANJAN SINGH\\anaconda3\\lib\\site-packages\\seaborn\\_decorators.py:36: FutureWarning: Pass the following variable as a keyword arg: x. From version 0.12, the only valid positional argument will be `data`, and passing other arguments without an explicit keyword will result in an error or misinterpretation.\n",
      "  warnings.warn(\n"
     ]
    },
    {
     "data": {
      "text/plain": [
       "<AxesSubplot:xlabel='credit_score'>"
      ]
     },
     "execution_count": 11,
     "metadata": {},
     "output_type": "execute_result"
    },
    {
     "data": {
      "image/png": "[encoded data removed]",
      "text/plain": [
       "<Figure size 720x720 with 1 Axes>"
      ]
     },
     "metadata": {},
     "output_type": "display_data"
    }
   ],
   "source": [
    "# BOXPLOT to display the outliers\n",
    "sns.boxplot(df['credit_score'])"
   ]
  },
  {
   "cell_type": "markdown",
   "id": "32059cd2",
   "metadata": {},
   "source": [
    "<h5>Position of Outliers</h5>"
   ]
  },
  {
   "cell_type": "code",
   "execution_count": 12,
   "id": "d22b2088",
   "metadata": {},
   "outputs": [
    {
     "data": {
      "text/plain": [
       "(array([   7,  942, 1193, 1201, 1405, 1631, 1838, 1962, 2473, 2579, 5285,\n",
       "        5494, 6253, 8154, 8723, 8762, 9210, 9356, 9624], dtype=int64),)"
      ]
     },
     "execution_count": 12,
     "metadata": {},
     "output_type": "execute_result"
    }
   ],
   "source": [
    "lower = np.where(df['credit_score'] <= 400)\n",
    "lower"
   ]
  },
  {
   "cell_type": "markdown",
   "id": "60314ba5",
   "metadata": {},
   "source": [
    "<h5>Dropping the outliers</h5>"
   ]
  },
  {
   "cell_type": "code",
   "execution_count": 13,
   "id": "d7510346",
   "metadata": {},
   "outputs": [],
   "source": [
    "df.drop(lower[0],inplace=True)"
   ]
  },
  {
   "cell_type": "markdown",
   "id": "be252004",
   "metadata": {},
   "source": [
    "<h5>Checking whether the outliers have been Removed or not</h5>"
   ]
  },
  {
   "cell_type": "code",
   "execution_count": 14,
   "id": "0485e6b4",
   "metadata": {},
   "outputs": [
    {
     "name": "stderr",
     "output_type": "stream",
     "text": [
      "C:\\Users\\RAJ RANJAN SINGH\\anaconda3\\lib\\site-packages\\seaborn\\_decorators.py:36: FutureWarning: Pass the following variable as a keyword arg: x. From version 0.12, the only valid positional argument will be `data`, and passing other arguments without an explicit keyword will result in an error or misinterpretation.\n",
      "  warnings.warn(\n"
     ]
    },
    {
     "data": {
      "text/plain": [
       "<AxesSubplot:xlabel='credit_score'>"
      ]
     },
     "execution_count": 14,
     "metadata": {},
     "output_type": "execute_result"
    },
    {
     "data": {
      "image/png": "[encoded data removed]",
      "text/plain": [
       "<Figure size 720x720 with 1 Axes>"
      ]
     },
     "metadata": {},
     "output_type": "display_data"
    }
   ],
   "source": [
    "sns.boxplot(df.credit_score)"
   ]
  },
  {
   "cell_type": "markdown",
   "id": "dc3ff5c9",
   "metadata": {},
   "source": [
    "<h5>Getting the info about the column \"age\"(the data it contains)</h5>"
   ]
  },
  {
   "cell_type": "code",
   "execution_count": 15,
   "id": "c39f54ae",
   "metadata": {},
   "outputs": [
    {
     "data": {
      "text/plain": [
       "0       42\n",
       "1       41\n",
       "2       42\n",
       "3       39\n",
       "4       43\n",
       "        ..\n",
       "9995    39\n",
       "9996    35\n",
       "9997    36\n",
       "9998    42\n",
       "9999    28\n",
       "Name: age, Length: 9981, dtype: int64"
      ]
     },
     "execution_count": 15,
     "metadata": {},
     "output_type": "execute_result"
    }
   ],
   "source": [
    "df.age"
   ]
  },
  {
   "cell_type": "markdown",
   "id": "df842c36",
   "metadata": {},
   "source": [
    "<h5>checking if there are any outliers in the column 'age'</h5>"
   ]
  },
  {
   "cell_type": "code",
   "execution_count": 16,
   "id": "d8033c91",
   "metadata": {},
   "outputs": [
    {
     "name": "stderr",
     "output_type": "stream",
     "text": [
      "C:\\Users\\RAJ RANJAN SINGH\\anaconda3\\lib\\site-packages\\seaborn\\_decorators.py:36: FutureWarning: Pass the following variable as a keyword arg: x. From version 0.12, the only valid positional argument will be `data`, and passing other arguments without an explicit keyword will result in an error or misinterpretation.\n",
      "  warnings.warn(\n"
     ]
    },
    {
     "data": {
      "text/plain": [
       "<AxesSubplot:xlabel='age'>"
      ]
     },
     "execution_count": 16,
     "metadata": {},
     "output_type": "execute_result"
    },
    {
     "data": {
      "image/png": "[encoded data removed]",
      "text/plain": [
       "<Figure size 720x720 with 1 Axes>"
      ]
     },
     "metadata": {},
     "output_type": "display_data"
    }
   ],
   "source": [
    "sns.boxplot(df['age'])"
   ]
  },
  {
   "cell_type": "markdown",
   "id": "b1c8042b",
   "metadata": {},
   "source": [
    "<h5>Position of Outliers</h5>"
   ]
  },
  {
   "cell_type": "code",
   "execution_count": 17,
   "id": "1d9fa2d4",
   "metadata": {},
   "outputs": [
    {
     "data": {
      "text/plain": [
       "(array([  41,   43,   57,   84,  103,  157,  180,  229,  233,  242,  251,\n",
       "         275,  309,  363,  370,  384,  386,  398,  415,  483,  537,  558,\n",
       "         560,  566,  601,  611,  616,  629,  657,  677,  695,  735,  765,\n",
       "         768,  806,  810,  822,  858,  883,  887,  920,  927,  946,  950,\n",
       "         955,  961,  967,  995, 1007, 1037, 1038, 1053, 1112, 1116, 1190,\n",
       "        1201, 1230, 1231, 1242, 1248, 1274, 1281, 1324, 1338, 1383, 1402,\n",
       "        1405, 1428, 1434, 1452, 1514, 1538, 1583, 1602, 1609, 1636, 1784,\n",
       "        1804, 1851, 1859, 1894, 1897, 1900, 1926, 1973, 1988, 1994, 2004,\n",
       "        2031, 2045, 2070, 2086, 2095, 2100, 2146, 2151, 2156, 2236, 2253,\n",
       "        2266, 2290, 2293, 2425, 2430, 2450, 2451, 2510, 2511, 2524, 2532,\n",
       "        2544, 2589, 2605, 2649, 2660, 2703, 2707, 2750, 2762, 2767, 2768,\n",
       "        2771, 2781, 2845, 2867, 2891, 2898, 2915, 2916, 2998, 3023, 3044,\n",
       "        3100, 3132, 3156, 3182, 3193, 3219, 3295, 3298, 3301, 3304, 3307,\n",
       "        3336, 3356, 3358, 3368, 3372, 3374, 3377, 3386, 3393, 3424, 3452,\n",
       "        3487, 3489, 3517, 3521, 3531, 3539, 3549, 3553, 3563, 3565, 3583,\n",
       "        3592, 3631, 3636, 3637, 3641, 3680, 3681, 3692, 3709, 3718, 3723,\n",
       "        3751, 3764, 3803, 3816, 3870, 3871, 3878, 3899, 3900, 3917, 3930,\n",
       "        3937, 3970, 3984, 4000, 4015, 4038, 4041, 4085, 4132, 4137, 4147,\n",
       "        4152, 4160, 4231, 4234, 4246, 4263, 4270, 4287, 4303, 4308, 4325,\n",
       "        4350, 4356, 4368, 4377, 4386, 4425, 4428, 4453, 4480, 4481, 4491,\n",
       "        4496, 4549, 4553, 4580, 4585, 4634, 4668, 4688, 4737, 4741, 4791,\n",
       "        4805, 4822, 4839, 4921, 4937, 4956, 4982, 4990, 5010, 5023, 5028,\n",
       "        5058, 5122, 5126, 5138, 5149, 5187, 5213, 5215, 5225, 5245, 5288,\n",
       "        5302, 5357, 5366, 5394, 5428, 5446, 5479, 5496, 5502, 5508, 5564,\n",
       "        5565, 5569, 5627, 5639, 5643, 5648, 5652, 5659, 5671, 5686, 5730,\n",
       "        5765, 5771, 5805, 5813, 5828, 5855, 5895, 5945, 5984, 6034, 6104,\n",
       "        6140, 6154, 6155, 6159, 6161, 6200, 6218, 6265, 6276, 6302, 6344,\n",
       "        6353, 6360, 6362, 6397, 6430, 6502, 6517, 6519, 6568, 6599, 6613,\n",
       "        6693, 6696, 6702, 6708, 6746, 6750, 6799, 6886, 6957, 6984, 6995,\n",
       "        7044, 7045, 7050, 7058, 7065, 7081, 7125, 7126, 7129, 7143, 7181,\n",
       "        7189, 7225, 7230, 7259, 7289, 7349, 7362, 7379, 7486, 7501, 7510,\n",
       "        7513, 7535, 7539, 7610, 7611, 7616, 7655, 7674, 7679, 7681, 7696,\n",
       "        7702, 7706, 7707, 7714, 7760, 7763, 7771, 7775, 7789, 7800, 7838,\n",
       "        7881, 7885, 7896, 7920, 7943, 7982, 8006, 8024, 8081, 8085, 8142,\n",
       "        8156, 8179, 8193, 8201, 8203, 8290, 8307, 8371, 8380, 8430, 8444,\n",
       "        8453, 8455, 8464, 8474, 8548, 8554, 8563, 8588, 8660, 8672, 8675,\n",
       "        8697, 8744, 8746, 8747, 8752, 8771, 8777, 8806, 8849, 8884, 8901,\n",
       "        8914, 8954, 9002, 9005, 9046, 9064, 9086, 9096, 9100, 9146, 9158,\n",
       "        9206, 9244, 9262, 9267, 9275, 9292, 9301, 9304, 9307, 9315, 9316,\n",
       "        9334, 9362, 9373, 9384, 9407, 9410, 9420, 9454, 9472, 9488, 9537,\n",
       "        9539, 9564, 9569, 9571, 9575, 9577, 9627, 9652, 9654, 9662, 9667,\n",
       "        9669, 9699, 9714, 9715, 9717, 9728, 9734, 9746, 9813, 9860, 9875,\n",
       "        9878, 9917], dtype=int64),)"
      ]
     },
     "execution_count": 17,
     "metadata": {},
     "output_type": "execute_result"
    }
   ],
   "source": [
    "upper= np.where(df['age']>60)\n",
    "upper"
   ]
  },
  {
   "cell_type": "markdown",
   "id": "bcc41511",
   "metadata": {},
   "source": [
    "<h5>The age variable has outliers, but these can be treated as the normal values of age because any person can be over 70 or 80 years of age. Also, the 70–90 age group is sparsely populated and participates in opening term deposit accounts, which is why these sets of people fall out of the box plot, but they are not outliers and can be considered as normal values.</h5>"
   ]
  },
  {
   "cell_type": "markdown",
   "id": "35daf495",
   "metadata": {},
   "source": [
    "<h5>Getting the info about the column \"balance\"(the data it contains)</h5>"
   ]
  },
  {
   "cell_type": "markdown",
   "id": "838debaf",
   "metadata": {},
   "source": [
    "<h5>checking if there are any outliers in the column 'balance'</h5>"
   ]
  },
  {
   "cell_type": "code",
   "execution_count": 18,
   "id": "605c6ccc",
   "metadata": {},
   "outputs": [
    {
     "name": "stderr",
     "output_type": "stream",
     "text": [
      "C:\\Users\\RAJ RANJAN SINGH\\anaconda3\\lib\\site-packages\\seaborn\\_decorators.py:36: FutureWarning: Pass the following variable as a keyword arg: x. From version 0.12, the only valid positional argument will be `data`, and passing other arguments without an explicit keyword will result in an error or misinterpretation.\n",
      "  warnings.warn(\n"
     ]
    },
    {
     "data": {
      "text/plain": [
       "<AxesSubplot:xlabel='balance'>"
      ]
     },
     "execution_count": 18,
     "metadata": {},
     "output_type": "execute_result"
    },
    {
     "data": {
      "image/png": "[encoded data removed]",
      "text/plain": [
       "<Figure size 720x720 with 1 Axes>"
      ]
     },
     "metadata": {},
     "output_type": "display_data"
    }
   ],
   "source": [
    "sns.boxplot(df['balance'])"
   ]
  },
  {
   "cell_type": "markdown",
   "id": "25471c24",
   "metadata": {},
   "source": [
    "<h5>There are no outliers in this column</h5>"
   ]
  },
  {
   "cell_type": "markdown",
   "id": "7ee3a2dd",
   "metadata": {},
   "source": [
    "<h5>checking if there are any outliers in the column 'estimated_salary'</h5>"
   ]
  },
  {
   "cell_type": "code",
   "execution_count": 19,
   "id": "e1ee582b",
   "metadata": {},
   "outputs": [
    {
     "name": "stderr",
     "output_type": "stream",
     "text": [
      "C:\\Users\\RAJ RANJAN SINGH\\anaconda3\\lib\\site-packages\\seaborn\\_decorators.py:36: FutureWarning: Pass the following variable as a keyword arg: x. From version 0.12, the only valid positional argument will be `data`, and passing other arguments without an explicit keyword will result in an error or misinterpretation.\n",
      "  warnings.warn(\n"
     ]
    },
    {
     "data": {
      "text/plain": [
       "<AxesSubplot:xlabel='estimated_salary'>"
      ]
     },
     "execution_count": 19,
     "metadata": {},
     "output_type": "execute_result"
    },
    {
     "data": {
      "image/png": "[encoded data removed]",
      "text/plain": [
       "<Figure size 720x720 with 1 Axes>"
      ]
     },
     "metadata": {},
     "output_type": "display_data"
    }
   ],
   "source": [
    "sns.boxplot(df['estimated_salary'])"
   ]
  },
  {
   "cell_type": "markdown",
   "id": "4777fbec",
   "metadata": {},
   "source": [
    "<h5>There are no outliers in this column</h5>"
   ]
  },
  {
   "cell_type": "code",
   "execution_count": 14,
   "id": "a2ebf3b1",
   "metadata": {},
   "outputs": [
    {
     "data": {
      "image/png": "[encoded data removed]",
      "text/plain": [
       "<Figure size 720x576 with 1 Axes>"
      ]
     },
     "metadata": {},
     "output_type": "display_data"
    }
   ],
   "source": [
    "labels = 'Churned', 'Retained'\n",
    "sizes = [df.churn[df['churn']==1].count(), df.churn[df['churn']==0].count()]\n",
    "explode = (0, 0.1)\n",
    "fig1, ax1 = plt.subplots(figsize=(10, 8))\n",
    "ax1.pie(sizes, explode=explode, labels=labels, autopct='%1.1f%%',\n",
    "        shadow=True, startangle=90)\n",
    "ax1.axis('equal')\n",
    "plt.title(\"Proportion of customer churned and retained\", size = 20)\n",
    "plt.show()\n"
   ]
  },
  {
   "cell_type": "code",
   "execution_count": 15,
   "id": "d35d6d6f",
   "metadata": {},
   "outputs": [
    {
     "name": "stderr",
     "output_type": "stream",
     "text": [
      "C:\\Users\\RAJ RANJAN SINGH\\anaconda3\\lib\\site-packages\\seaborn\\distributions.py:2619: FutureWarning: `distplot` is a deprecated function and will be removed in a future version. Please adapt your code to use either `displot` (a figure-level function with similar flexibility) or `histplot` (an axes-level function for histograms).\n",
      "  warnings.warn(msg, FutureWarning)\n"
     ]
    },
    {
     "data": {
      "image/png": "[encoded data removed]",
      "text/plain": [
       "<Figure size 720x576 with 1 Axes>"
      ]
     },
     "metadata": {},
     "output_type": "display_data"
    }
   ],
   "source": [
    "sns.set(rc={'figure.figsize':(10,8)})\n",
    "sns.distplot(df.churn, bins=2)\n",
    "plt.show()"
   ]
  },
  {
   "cell_type": "markdown",
   "id": "ec7c9025",
   "metadata": {},
   "source": [
    "<h4>the bar on the right shows the number of customers churned by bank, whereas the bar on the left shows the number of customers that weren't churned by the Bank.</h4>"
   ]
  },
  {
   "cell_type": "markdown",
   "id": "fccffe4e",
   "metadata": {},
   "source": [
    "<h5>Checking the correlation of the columns with each other</h5>"
   ]
  },
  {
   "cell_type": "code",
   "execution_count": 10,
   "id": "d408a9e0",
   "metadata": {},
   "outputs": [
    {
     "data": {
      "text/plain": [
       "<AxesSubplot:>"
      ]
     },
     "execution_count": 10,
     "metadata": {},
     "output_type": "execute_result"
    },
    {
     "data": {
      "image/png": "[encoded data removed]",
      "text/plain": [
       "<Figure size 720x720 with 2 Axes>"
      ]
     },
     "metadata": {},
     "output_type": "display_data"
    }
   ],
   "source": [
    "corr = df.corr() # how are the columns related to each other or dependent on each other\n",
    "sns.set(rc={'figure.figsize': (10,10)}) \n",
    "\n",
    "# Plotting the heatmap of correlation between features\n",
    "sns.heatmap(corr, annot=True, cmap='plasma')"
   ]
  },
  {
   "cell_type": "markdown",
   "id": "f627359e",
   "metadata": {},
   "source": [
    "<h4>the column 'churn' is correlated to column 'age', and slightly correlated to column 'balance'\n",
    "</h4>"
   ]
  },
  {
   "cell_type": "markdown",
   "id": "a4896cb7",
   "metadata": {},
   "source": [
    "<h3>Univariate analysis- Unordered Categorical variable\n",
    "</h3>"
   ]
  },
  {
   "cell_type": "markdown",
   "id": "07948df4",
   "metadata": {},
   "source": [
    "<h5>'Gender' Column\n",
    "</h5>"
   ]
  },
  {
   "cell_type": "code",
   "execution_count": 10,
   "id": "26727fc1",
   "metadata": {},
   "outputs": [
    {
     "data": {
      "text/plain": [
       "Male      5457\n",
       "Female    4543\n",
       "Name: gender, dtype: int64"
      ]
     },
     "execution_count": 10,
     "metadata": {},
     "output_type": "execute_result"
    }
   ],
   "source": [
    "df.gender.value_counts()"
   ]
  },
  {
   "cell_type": "markdown",
   "id": "a72046ac",
   "metadata": {},
   "source": [
    "<h4>The total number of males in the dataset are 5457\n",
    "    The total number of females in the dataset are 4543\n",
    "</h4>"
   ]
  },
  {
   "cell_type": "code",
   "execution_count": 9,
   "id": "c93e9fca",
   "metadata": {},
   "outputs": [
    {
     "data": {
      "image/png": "[encoded data removed]",
      "text/plain": [
       "<Figure size 432x288 with 1 Axes>"
      ]
     },
     "metadata": {
      "needs_background": "light"
     },
     "output_type": "display_data"
    }
   ],
   "source": [
    "df.gender.value_counts().plot.barh()\n",
    "plt.show()"
   ]
  },
  {
   "cell_type": "markdown",
   "id": "6350db11",
   "metadata": {},
   "source": [
    "<h4>the number of males and females is shown in the form of a graph\n",
    "</h4>"
   ]
  },
  {
   "cell_type": "code",
   "execution_count": 16,
   "id": "673a9cbd",
   "metadata": {},
   "outputs": [
    {
     "data": {
      "text/plain": [
       "0       Female\n",
       "2       Female\n",
       "5         Male\n",
       "7       Female\n",
       "16        Male\n",
       "         ...  \n",
       "9981      Male\n",
       "9982    Female\n",
       "9991    Female\n",
       "9997    Female\n",
       "9998      Male\n",
       "Name: gender, Length: 2037, dtype: object"
      ]
     },
     "execution_count": 16,
     "metadata": {},
     "output_type": "execute_result"
    }
   ],
   "source": [
    "#plotting the number of males and females being churned out of the bank(churn=1)\n",
    "df.loc[df.churn==1,\"gender\"]"
   ]
  },
  {
   "cell_type": "markdown",
   "id": "96a28b6d",
   "metadata": {},
   "source": [
    "<h4>'Country' Column\n",
    "</h4>"
   ]
  },
  {
   "cell_type": "code",
   "execution_count": null,
   "id": "6eff11e9",
   "metadata": {},
   "outputs": [],
   "source": []
  }
 ],
 "metadata": {
  "kernelspec": {
   "display_name": "Python 3 (ipykernel)",
   "language": "python",
   "name": "python3"
  },
  "language_info": {
   "codemirror_mode": {
    "name": "ipython",
    "version": 3
   },
   "file_extension": ".py",
   "mimetype": "text/x-python",
   "name": "python",
   "nbconvert_exporter": "python",
   "pygments_lexer": "ipython3",
   "version": "3.9.7"
  }
 },
 "nbformat": 4,
 "nbformat_minor": 5
}
